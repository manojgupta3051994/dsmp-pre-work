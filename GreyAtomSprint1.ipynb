{
  "nbformat": 4,
  "nbformat_minor": 0,
  "metadata": {
    "colab": {
      "name": "GreyAtomSprint1.ipynb",
      "provenance": [],
      "collapsed_sections": [],
      "include_colab_link": true
    },
    "kernelspec": {
      "name": "python3",
      "display_name": "Python 3"
    }
  },
  "cells": [
    {
      "cell_type": "markdown",
      "metadata": {
        "id": "view-in-github",
        "colab_type": "text"
      },
      "source": [
        "<a href=\"https://colab.research.google.com/github/manojgupta3051994/dsmp-pre-work/blob/master/GreyAtomSprint1.ipynb\" target=\"_parent\"><img src=\"https://colab.research.google.com/assets/colab-badge.svg\" alt=\"Open In Colab\"/></a>"
      ]
    },
    {
      "cell_type": "code",
      "metadata": {
        "id": "7eI7g5We6rAh",
        "colab_type": "code",
        "colab": {}
      },
      "source": [
        "x = 100"
      ],
      "execution_count": 0,
      "outputs": []
    },
    {
      "cell_type": "code",
      "metadata": {
        "id": "FLOhpY567cWc",
        "colab_type": "code",
        "colab": {}
      },
      "source": [
        "x"
      ],
      "execution_count": 0,
      "outputs": []
    },
    {
      "cell_type": "code",
      "metadata": {
        "id": "-u4UwAKS82X7",
        "colab_type": "code",
        "colab": {}
      },
      "source": [
        "y = 3.14j"
      ],
      "execution_count": 0,
      "outputs": []
    },
    {
      "cell_type": "code",
      "metadata": {
        "id": "cpT3J5ws86sS",
        "colab_type": "code",
        "outputId": "122bf1c4-56c5-4b9a-89d6-466c991f0c15",
        "colab": {
          "base_uri": "https://localhost:8080/",
          "height": 34
        }
      },
      "source": [
        "y"
      ],
      "execution_count": 0,
      "outputs": [
        {
          "output_type": "execute_result",
          "data": {
            "text/plain": [
              "3.14j"
            ]
          },
          "metadata": {
            "tags": []
          },
          "execution_count": 32
        }
      ]
    },
    {
      "cell_type": "code",
      "metadata": {
        "id": "MumOzDEj872Y",
        "colab_type": "code",
        "colab": {}
      },
      "source": [
        "z = \"Manoj\""
      ],
      "execution_count": 0,
      "outputs": []
    },
    {
      "cell_type": "code",
      "metadata": {
        "id": "2NGhPRIR8-z_",
        "colab_type": "code",
        "colab": {}
      },
      "source": [
        "z"
      ],
      "execution_count": 0,
      "outputs": []
    },
    {
      "cell_type": "code",
      "metadata": {
        "id": "AAFY9JkJ8_rk",
        "colab_type": "code",
        "colab": {}
      },
      "source": [
        "print (type(y))"
      ],
      "execution_count": 0,
      "outputs": []
    },
    {
      "cell_type": "code",
      "metadata": {
        "id": "CWUI8rxA-kGp",
        "colab_type": "code",
        "colab": {}
      },
      "source": [
        "g = ''' kkkkk\" \"klklk\" 'll' 'oo' '''"
      ],
      "execution_count": 0,
      "outputs": []
    },
    {
      "cell_type": "code",
      "metadata": {
        "id": "oxalOuyR-u4P",
        "colab_type": "code",
        "colab": {}
      },
      "source": [
        "type (g)"
      ],
      "execution_count": 0,
      "outputs": []
    },
    {
      "cell_type": "code",
      "metadata": {
        "id": "it5a0bUl-xGV",
        "colab_type": "code",
        "colab": {}
      },
      "source": [
        "len(z)"
      ],
      "execution_count": 0,
      "outputs": []
    },
    {
      "cell_type": "code",
      "metadata": {
        "id": "gYkoc3UV-0x7",
        "colab_type": "code",
        "outputId": "79fef5ae-1b19-401f-e811-c6373a3f738b",
        "colab": {
          "base_uri": "https://localhost:8080/",
          "height": 34
        }
      },
      "source": [
        "print (z +\" \" \" \" + g)"
      ],
      "execution_count": 0,
      "outputs": [
        {
          "output_type": "stream",
          "text": [
            "Manoj   kkkkk\" \"klklk\" 'll' 'oo' \n"
          ],
          "name": "stdout"
        }
      ]
    },
    {
      "cell_type": "code",
      "metadata": {
        "id": "Tr9SdFFm_MFw",
        "colab_type": "code",
        "colab": {}
      },
      "source": [
        "o = '''Manoj   kkkkk\" \"klklk\" 'll' 'oo' '''"
      ],
      "execution_count": 0,
      "outputs": []
    },
    {
      "cell_type": "code",
      "metadata": {
        "id": "-rQN6nqvAMnw",
        "colab_type": "code",
        "outputId": "d475bc6f-686d-4667-bdba-9d5bbc319761",
        "colab": {
          "base_uri": "https://localhost:8080/",
          "height": 34
        }
      },
      "source": [
        "o"
      ],
      "execution_count": 0,
      "outputs": [
        {
          "output_type": "execute_result",
          "data": {
            "text/plain": [
              "'Manoj   kkkkk\" \"klklk\" \\'ll\\' \\'oo\\' '"
            ]
          },
          "metadata": {
            "tags": []
          },
          "execution_count": 50
        }
      ]
    },
    {
      "cell_type": "code",
      "metadata": {
        "id": "9tlnMdegAiHm",
        "colab_type": "code",
        "colab": {}
      },
      "source": [
        "a,b = 1,2"
      ],
      "execution_count": 0,
      "outputs": []
    },
    {
      "cell_type": "code",
      "metadata": {
        "id": "0Ymp0tkGCAer",
        "colab_type": "code",
        "outputId": "8d52ba86-178a-4588-f3f3-82e1ae730eef",
        "colab": {
          "base_uri": "https://localhost:8080/",
          "height": 34
        }
      },
      "source": [
        "print (a,b)"
      ],
      "execution_count": 0,
      "outputs": [
        {
          "output_type": "stream",
          "text": [
            "1 2\n"
          ],
          "name": "stdout"
        }
      ]
    },
    {
      "cell_type": "code",
      "metadata": {
        "id": "Tv11OLn9CDrX",
        "colab_type": "code",
        "colab": {}
      },
      "source": [
        "a,b=b,a"
      ],
      "execution_count": 0,
      "outputs": []
    },
    {
      "cell_type": "code",
      "metadata": {
        "id": "KxEqly9sCGIW",
        "colab_type": "code",
        "outputId": "11c886d1-1a7c-4d9c-bbb2-a21023edd7be",
        "colab": {
          "base_uri": "https://localhost:8080/",
          "height": 34
        }
      },
      "source": [
        "print(a,b)"
      ],
      "execution_count": 0,
      "outputs": [
        {
          "output_type": "stream",
          "text": [
            "2 1\n"
          ],
          "name": "stdout"
        }
      ]
    },
    {
      "cell_type": "code",
      "metadata": {
        "id": "MQVyjY6UCHyl",
        "colab_type": "code",
        "outputId": "d21679b9-09b1-42bc-b163-6f34600b5809",
        "colab": {
          "base_uri": "https://localhost:8080/",
          "height": 34
        }
      },
      "source": [
        "str(4) "
      ],
      "execution_count": 0,
      "outputs": [
        {
          "output_type": "execute_result",
          "data": {
            "text/plain": [
              "'4'"
            ]
          },
          "metadata": {
            "tags": []
          },
          "execution_count": 55
        }
      ]
    },
    {
      "cell_type": "code",
      "metadata": {
        "id": "wjvezhH3DsQQ",
        "colab_type": "code",
        "outputId": "946acd38-29f4-4066-84f2-4d2937d33981",
        "colab": {
          "base_uri": "https://localhost:8080/",
          "height": 34
        }
      },
      "source": [
        "str (123456789987654321)"
      ],
      "execution_count": 0,
      "outputs": [
        {
          "output_type": "execute_result",
          "data": {
            "text/plain": [
              "'123456789987654321'"
            ]
          },
          "metadata": {
            "tags": []
          },
          "execution_count": 60
        }
      ]
    },
    {
      "cell_type": "code",
      "metadata": {
        "id": "cdMlHUpQFOxe",
        "colab_type": "code",
        "colab": {}
      },
      "source": [
        "m = \"ManojGupta\""
      ],
      "execution_count": 0,
      "outputs": []
    },
    {
      "cell_type": "code",
      "metadata": {
        "id": "4hD6R8h8GfR7",
        "colab_type": "code",
        "outputId": "642f8cb7-a05c-4156-bb0a-0bd3c0c622c4",
        "colab": {
          "base_uri": "https://localhost:8080/",
          "height": 50
        }
      },
      "source": [
        "print(m.upper())\n",
        "print(m.lower())"
      ],
      "execution_count": 0,
      "outputs": [
        {
          "output_type": "stream",
          "text": [
            "MANOJGUPTA\n",
            "manojgupta\n"
          ],
          "name": "stdout"
        }
      ]
    },
    {
      "cell_type": "code",
      "metadata": {
        "id": "BXbypFa3Goog",
        "colab_type": "code",
        "outputId": "e19ade4d-845f-4e49-d4af-4ea27459ab90",
        "colab": {
          "base_uri": "https://localhost:8080/",
          "height": 34
        }
      },
      "source": [
        "m[:-5].upper()"
      ],
      "execution_count": 0,
      "outputs": [
        {
          "output_type": "execute_result",
          "data": {
            "text/plain": [
              "'MANOJ'"
            ]
          },
          "metadata": {
            "tags": []
          },
          "execution_count": 83
        }
      ]
    },
    {
      "cell_type": "code",
      "metadata": {
        "id": "l_ra4BqCHm9H",
        "colab_type": "code",
        "colab": {}
      },
      "source": [
        "x=int(input(\"Enter number \"))\n",
        "for i in range(x):\n",
        "  if x / 2 == 0:\n",
        "    print (\"Even number \")\n",
        "  else:\n",
        "    print (\"Odd number\")"
      ],
      "execution_count": 0,
      "outputs": []
    },
    {
      "cell_type": "code",
      "metadata": {
        "id": "AVdGf-PyJPN5",
        "colab_type": "code",
        "colab": {}
      },
      "source": [
        "x = input(\"Enter your list items \")\n",
        "y = ['j','k','l']\n",
        "y.append(x)\n",
        "print (y)"
      ],
      "execution_count": 0,
      "outputs": []
    },
    {
      "cell_type": "code",
      "metadata": {
        "id": "GyQEX8FIMs1q",
        "colab_type": "code",
        "colab": {}
      },
      "source": [
        "y[1:3:1]"
      ],
      "execution_count": 0,
      "outputs": []
    },
    {
      "cell_type": "code",
      "metadata": {
        "id": "xDNhTORaQHkD",
        "colab_type": "code",
        "outputId": "6e244238-4a9a-4ce9-8815-6aa91064cda6",
        "colab": {
          "base_uri": "https://localhost:8080/",
          "height": 34
        }
      },
      "source": [
        "v = [1,2,3,4,5,7,8,9]\n",
        "print (v[:])"
      ],
      "execution_count": 0,
      "outputs": [
        {
          "output_type": "stream",
          "text": [
            "[1, 2, 3, 4, 5, 7, 8, 9]\n"
          ],
          "name": "stdout"
        }
      ]
    },
    {
      "cell_type": "code",
      "metadata": {
        "id": "R8U66gLWTnu4",
        "colab_type": "code",
        "colab": {}
      },
      "source": [
        " x1 = ['coke' , 'pepsi' , 'kik']"
      ],
      "execution_count": 0,
      "outputs": []
    },
    {
      "cell_type": "code",
      "metadata": {
        "id": "BVRO7qcSWHud",
        "colab_type": "code",
        "outputId": "b026e40b-dd07-43c8-8bed-6b9a6956b7d6",
        "colab": {
          "base_uri": "https://localhost:8080/",
          "height": 34
        }
      },
      "source": [
        "x1"
      ],
      "execution_count": 0,
      "outputs": [
        {
          "output_type": "execute_result",
          "data": {
            "text/plain": [
              "['coke', 'pepsi', 'kik']"
            ]
          },
          "metadata": {
            "tags": []
          },
          "execution_count": 2
        }
      ]
    },
    {
      "cell_type": "code",
      "metadata": {
        "id": "UmR97Lw0CQPa",
        "colab_type": "code",
        "colab": {}
      },
      "source": [
        ""
      ],
      "execution_count": 0,
      "outputs": []
    }
  ]
}