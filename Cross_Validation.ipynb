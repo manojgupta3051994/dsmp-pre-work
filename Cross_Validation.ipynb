{
  "nbformat": 4,
  "nbformat_minor": 0,
  "metadata": {
    "colab": {
      "name": "Cross_Validation.ipynb",
      "provenance": [],
      "authorship_tag": "ABX9TyOVqGh1DdZ56Os/GSmI6i2y",
      "include_colab_link": true
    },
    "kernelspec": {
      "name": "python3",
      "display_name": "Python 3"
    }
  },
  "cells": [
    {
      "cell_type": "markdown",
      "metadata": {
        "id": "view-in-github",
        "colab_type": "text"
      },
      "source": [
        "<a href=\"https://colab.research.google.com/github/manojgupta3051994/dsmp-pre-work/blob/master/Cross_Validation.ipynb\" target=\"_parent\"><img src=\"https://colab.research.google.com/assets/colab-badge.svg\" alt=\"Open In Colab\"/></a>"
      ]
    },
    {
      "cell_type": "code",
      "metadata": {
        "id": "4Pla7S_Wq5cd",
        "colab_type": "code",
        "colab": {}
      },
      "source": [
        "from sklearn.datasets import load_iris\n",
        "from sklearn.model_selection import train_test_split\n",
        "from sklearn.neighbors import KNeighborsClassifier\n",
        "from sklearn import metrics"
      ],
      "execution_count": 0,
      "outputs": []
    },
    {
      "cell_type": "code",
      "metadata": {
        "id": "4NBBePOkrHgV",
        "colab_type": "code",
        "colab": {}
      },
      "source": [
        "\n",
        "# read in the iris data\n",
        "iris = load_iris()\n",
        "\n",
        "# create X (features) and y (response)\n",
        "X = iris.data\n",
        "y = iris.target"
      ],
      "execution_count": 0,
      "outputs": []
    },
    {
      "cell_type": "code",
      "metadata": {
        "id": "jiposcfprMhm",
        "colab_type": "code",
        "outputId": "52e907d4-405f-4e6b-9c39-72d2d3758de1",
        "colab": {
          "base_uri": "https://localhost:8080/",
          "height": 34
        }
      },
      "source": [
        "# use train/test split with different random_state values\n",
        "X_train, X_test, y_train, y_test = train_test_split(X, y, random_state=4)\n",
        "\n",
        "# check classification accuracy of KNN with K=5\n",
        "knn = KNeighborsClassifier(n_neighbors=5)\n",
        "knn.fit(X_train, y_train)\n",
        "y_pred = knn.predict(X_test)\n",
        "print(metrics.accuracy_score(y_test, y_pred))"
      ],
      "execution_count": 0,
      "outputs": [
        {
          "output_type": "stream",
          "text": [
            "0.9736842105263158\n"
          ],
          "name": "stdout"
        }
      ]
    },
    {
      "cell_type": "code",
      "metadata": {
        "id": "eKHhdX2YrO7F",
        "colab_type": "code",
        "colab": {
          "base_uri": "https://localhost:8080/",
          "height": 118
        },
        "outputId": "ec336046-784c-4055-c4e1-882fae508882"
      },
      "source": [
        "# simulate splitting a dataset of 25 observations into 5 folds\n",
        "from sklearn.model_selection import KFold\n",
        "kf = KFold(n_splits=5, shuffle=False).split(range(25))\n",
        "\n",
        "# print the contents of each training and testing set\n",
        "print('{} {:^61} {}'.format('Iteration', 'Training set observations', 'Testing set observations'))\n",
        "for iteration, data in enumerate(kf, start=1):\n",
        "    print('{:^9} {} {:^25}'.format(iteration, data[0], str(data[1])))"
      ],
      "execution_count": 1,
      "outputs": [
        {
          "output_type": "stream",
          "text": [
            "Iteration                   Training set observations                   Testing set observations\n",
            "    1     [ 5  6  7  8  9 10 11 12 13 14 15 16 17 18 19 20 21 22 23 24]        [0 1 2 3 4]       \n",
            "    2     [ 0  1  2  3  4 10 11 12 13 14 15 16 17 18 19 20 21 22 23 24]        [5 6 7 8 9]       \n",
            "    3     [ 0  1  2  3  4  5  6  7  8  9 15 16 17 18 19 20 21 22 23 24]     [10 11 12 13 14]     \n",
            "    4     [ 0  1  2  3  4  5  6  7  8  9 10 11 12 13 14 20 21 22 23 24]     [15 16 17 18 19]     \n",
            "    5     [ 0  1  2  3  4  5  6  7  8  9 10 11 12 13 14 15 16 17 18 19]     [20 21 22 23 24]     \n"
          ],
          "name": "stdout"
        }
      ]
    },
    {
      "cell_type": "code",
      "metadata": {
        "id": "pl6C2b_rkLHu",
        "colab_type": "code",
        "colab": {}
      },
      "source": [
        "from sklearn.model_selection import cross_val_score"
      ],
      "execution_count": 0,
      "outputs": []
    },
    {
      "cell_type": "code",
      "metadata": {
        "id": "P2KyT0Htuo_1",
        "colab_type": "code",
        "colab": {}
      },
      "source": [
        "\n",
        "# 10-fold cross-validation with K=5 for KNN (the n_neighbors parameter)\n",
        "knn = KNeighborsClassifier(n_neighbors=5)\n",
        "scores = cross_val_score(knn, X, y, cv=10, scoring='accuracy')\n",
        "print(scores)"
      ],
      "execution_count": 0,
      "outputs": []
    },
    {
      "cell_type": "code",
      "metadata": {
        "id": "3EbhQo2kusyM",
        "colab_type": "code",
        "colab": {}
      },
      "source": [
        "# use average accuracy as an estimate of out-of-sample accuracy\n",
        "print(scores.mean())\n"
      ],
      "execution_count": 0,
      "outputs": []
    }
  ]
}