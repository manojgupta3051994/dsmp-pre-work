{
  "nbformat": 4,
  "nbformat_minor": 0,
  "metadata": {
    "colab": {
      "name": "Grid_Search.ipynb",
      "provenance": [],
      "include_colab_link": true
    },
    "kernelspec": {
      "name": "python3",
      "display_name": "Python 3"
    }
  },
  "cells": [
    {
      "cell_type": "markdown",
      "metadata": {
        "id": "view-in-github",
        "colab_type": "text"
      },
      "source": [
        "<a href=\"https://colab.research.google.com/github/manojgupta3051994/dsmp-pre-work/blob/master/Grid_Search.ipynb\" target=\"_parent\"><img src=\"https://colab.research.google.com/assets/colab-badge.svg\" alt=\"Open In Colab\"/></a>"
      ]
    },
    {
      "cell_type": "code",
      "metadata": {
        "id": "EMsrD54NMGvV",
        "colab_type": "code",
        "colab": {}
      },
      "source": [
        "from sklearn.datasets import load_iris\n",
        "from sklearn.neighbors import KNeighborsClassifier\n",
        "from sklearn.model_selection import cross_val_score\n",
        "import matplotlib.pyplot as plt\n",
        "%matplotlib inline"
      ],
      "execution_count": 0,
      "outputs": []
    },
    {
      "cell_type": "code",
      "metadata": {
        "id": "UwsJ365sMg1C",
        "colab_type": "code",
        "colab": {}
      },
      "source": [
        "# read in the iris data\n",
        "iris = load_iris()\n",
        "\n",
        "# create X (features) and y (response)\n",
        "X = iris.data\n",
        "y = iris.target"
      ],
      "execution_count": 0,
      "outputs": []
    },
    {
      "cell_type": "code",
      "metadata": {
        "id": "qjq0HnQDMlP4",
        "colab_type": "code",
        "outputId": "3b9d95f5-74d8-4c3d-fbb5-da485625ae59",
        "colab": {
          "base_uri": "https://localhost:8080/",
          "height": 50
        }
      },
      "source": [
        "\n",
        "# 10-fold cross-validation with K=5 for KNN (the n_neighbors parameter)\n",
        "knn = KNeighborsClassifier(n_neighbors=5)\n",
        "scores = cross_val_score(knn, X, y, cv=10, scoring='accuracy')\n",
        "print(scores)\n"
      ],
      "execution_count": 6,
      "outputs": [
        {
          "output_type": "stream",
          "text": [
            "[1.         0.93333333 1.         1.         0.86666667 0.93333333\n",
            " 0.93333333 1.         1.         1.        ]\n"
          ],
          "name": "stdout"
        }
      ]
    },
    {
      "cell_type": "code",
      "metadata": {
        "id": "qxRI3eVOMm8U",
        "colab_type": "code",
        "outputId": "4c792fa1-4441-42ee-8730-057e2f40b164",
        "colab": {
          "base_uri": "https://localhost:8080/",
          "height": 34
        }
      },
      "source": [
        "# use average accuracy as an estimate of out-of-sample accuracy\n",
        "print(scores.mean())"
      ],
      "execution_count": 7,
      "outputs": [
        {
          "output_type": "stream",
          "text": [
            "0.9666666666666668\n"
          ],
          "name": "stdout"
        }
      ]
    },
    {
      "cell_type": "code",
      "metadata": {
        "id": "qCX3xWTPZJdv",
        "colab_type": "code",
        "outputId": "f6c50797-394f-41ed-e72a-f21b757b008c",
        "colab": {
          "base_uri": "https://localhost:8080/",
          "height": 54
        }
      },
      "source": [
        "# search for an optimal value of K for KNN\n",
        "k_range = list(range(1, 31))\n",
        "k_scores = []\n",
        "for k in k_range:\n",
        "    knn = KNeighborsClassifier(n_neighbors=k)\n",
        "    scores = cross_val_score(knn, X, y, cv=10, scoring='accuracy')\n",
        "    k_scores.append(scores.mean())\n",
        "print(k_scores)"
      ],
      "execution_count": 8,
      "outputs": [
        {
          "output_type": "stream",
          "text": [
            "[0.96, 0.9533333333333334, 0.9666666666666666, 0.9666666666666666, 0.9666666666666668, 0.9666666666666668, 0.9666666666666668, 0.9666666666666668, 0.9733333333333334, 0.9666666666666668, 0.9666666666666668, 0.9733333333333334, 0.9800000000000001, 0.9733333333333334, 0.9733333333333334, 0.9733333333333334, 0.9733333333333334, 0.9800000000000001, 0.9733333333333334, 0.9800000000000001, 0.9666666666666666, 0.9666666666666666, 0.9733333333333334, 0.96, 0.9666666666666666, 0.96, 0.9666666666666666, 0.9533333333333334, 0.9533333333333334, 0.9533333333333334]\n"
          ],
          "name": "stdout"
        }
      ]
    },
    {
      "cell_type": "code",
      "metadata": {
        "id": "U3rvrxe2ZLz6",
        "colab_type": "code",
        "outputId": "546e064d-b462-46d8-ab15-0e11cccbfe2c",
        "colab": {
          "base_uri": "https://localhost:8080/",
          "height": 296
        }
      },
      "source": [
        "# plot the value of K for KNN (x-axis) versus the cross-validated accuracy (y-axis)\n",
        "plt.plot(k_range, k_scores)\n",
        "plt.xlabel('Value of K for KNN')\n",
        "plt.ylabel('Cross-Validated Accuracy')"
      ],
      "execution_count": 9,
      "outputs": [
        {
          "output_type": "execute_result",
          "data": {
            "text/plain": [
              "Text(0, 0.5, 'Cross-Validated Accuracy')"
            ]
          },
          "metadata": {
            "tags": []
          },
          "execution_count": 9
        },
        {
          "output_type": "display_data",
          "data": {
            "image/png": "[encoded data removed]",
            "text/plain": [
              "<Figure size 432x288 with 1 Axes>"
            ]
          },
          "metadata": {
            "tags": []
          }
        }
      ]
    },
    {
      "cell_type": "code",
      "metadata": {
        "id": "5GwR06Y3ZP-i",
        "colab_type": "code",
        "colab": {}
      },
      "source": [
        "from sklearn.model_selection import GridSearchCV"
      ],
      "execution_count": 0,
      "outputs": []
    },
    {
      "cell_type": "code",
      "metadata": {
        "id": "7VmDRJod5Xrk",
        "colab_type": "code",
        "outputId": "d483435d-cfa4-4083-8729-5b23a7b512d0",
        "colab": {
          "base_uri": "https://localhost:8080/",
          "height": 34
        }
      },
      "source": [
        "# define the parameter values that should be searched\n",
        "k_range = list(range(1, 31))\n",
        "print(k_range)"
      ],
      "execution_count": 11,
      "outputs": [
        {
          "output_type": "stream",
          "text": [
            "[1, 2, 3, 4, 5, 6, 7, 8, 9, 10, 11, 12, 13, 14, 15, 16, 17, 18, 19, 20, 21, 22, 23, 24, 25, 26, 27, 28, 29, 30]\n"
          ],
          "name": "stdout"
        }
      ]
    },
    {
      "cell_type": "code",
      "metadata": {
        "id": "eSj5xmLu5dKd",
        "colab_type": "code",
        "outputId": "bb38f16b-0635-41dc-f94c-5547eee62681",
        "colab": {
          "base_uri": "https://localhost:8080/",
          "height": 34
        }
      },
      "source": [
        "# create a parameter grid: map the parameter names to the values that should be searched\n",
        "param_grid = dict(n_neighbors=k_range)\n",
        "print(param_grid)"
      ],
      "execution_count": 12,
      "outputs": [
        {
          "output_type": "stream",
          "text": [
            "{'n_neighbors': [1, 2, 3, 4, 5, 6, 7, 8, 9, 10, 11, 12, 13, 14, 15, 16, 17, 18, 19, 20, 21, 22, 23, 24, 25, 26, 27, 28, 29, 30]}\n"
          ],
          "name": "stdout"
        }
      ]
    },
    {
      "cell_type": "code",
      "metadata": {
        "id": "niNB4-1K5hgk",
        "colab_type": "code",
        "colab": {}
      },
      "source": [
        "# instantiate the grid\n",
        "grid = GridSearchCV(knn, param_grid, cv=10, scoring='accuracy', return_train_score=False)"
      ],
      "execution_count": 0,
      "outputs": []
    },
    {
      "cell_type": "code",
      "metadata": {
        "id": "M74gkaa0cgKo",
        "colab_type": "code",
        "colab": {
          "base_uri": "https://localhost:8080/",
          "height": 218
        },
        "outputId": "ee6e99b1-3492-452a-fc00-15833faf5b57"
      },
      "source": [
        "# fit the grid with data\n",
        "grid.fit(X, y)"
      ],
      "execution_count": 14,
      "outputs": [
        {
          "output_type": "execute_result",
          "data": {
            "text/plain": [
              "GridSearchCV(cv=10, error_score=nan,\n",
              "             estimator=KNeighborsClassifier(algorithm='auto', leaf_size=30,\n",
              "                                            metric='minkowski',\n",
              "                                            metric_params=None, n_jobs=None,\n",
              "                                            n_neighbors=30, p=2,\n",
              "                                            weights='uniform'),\n",
              "             iid='deprecated', n_jobs=None,\n",
              "             param_grid={'n_neighbors': [1, 2, 3, 4, 5, 6, 7, 8, 9, 10, 11, 12,\n",
              "                                         13, 14, 15, 16, 17, 18, 19, 20, 21, 22,\n",
              "                                         23, 24, 25, 26, 27, 28, 29, 30]},\n",
              "             pre_dispatch='2*n_jobs', refit=True, return_train_score=False,\n",
              "             scoring='accuracy', verbose=0)"
            ]
          },
          "metadata": {
            "tags": []
          },
          "execution_count": 14
        }
      ]
    },
    {
      "cell_type": "code",
      "metadata": {
        "id": "ty-TyhqlclU3",
        "colab_type": "code",
        "colab": {
          "base_uri": "https://localhost:8080/",
          "height": 935
        },
        "outputId": "a374e151-d5d1-48f0-f923-fe035f7b9f78"
      },
      "source": [
        "# view the results as a pandas DataFrame\n",
        "import pandas as pd\n",
        "pd.DataFrame(grid.cv_results_)[['mean_test_score', 'std_test_score', 'params']]"
      ],
      "execution_count": 15,
      "outputs": [
        {
          "output_type": "execute_result",
          "data": {
            "text/html": [
              "<div>\n",
              "<style scoped>\n",
              "    .dataframe tbody tr th:only-of-type {\n",
              "        vertical-align: middle;\n",
              "    }\n",
              "\n",
              "    .dataframe tbody tr th {\n",
              "        vertical-align: top;\n",
              "    }\n",
              "\n",
              "    .dataframe thead th {\n",
              "        text-align: right;\n",
              "    }\n",
              "</style>\n",
              "<table border=\"1\" class=\"dataframe\">\n",
              "  <thead>\n",
              "    <tr style=\"text-align: right;\">\n",
              "      <th></th>\n",
              "      <th>mean_test_score</th>\n",
              "      <th>std_test_score</th>\n",
              "      <th>params</th>\n",
              "    </tr>\n",
              "  </thead>\n",
              "  <tbody>\n",
              "    <tr>\n",
              "      <th>0</th>\n",
              "      <td>0.960000</td>\n",
              "      <td>0.053333</td>\n",
              "      <td>{'n_neighbors': 1}</td>\n",
              "    </tr>\n",
              "    <tr>\n",
              "      <th>1</th>\n",
              "      <td>0.953333</td>\n",
              "      <td>0.052068</td>\n",
              "      <td>{'n_neighbors': 2}</td>\n",
              "    </tr>\n",
              "    <tr>\n",
              "      <th>2</th>\n",
              "      <td>0.966667</td>\n",
              "      <td>0.044721</td>\n",
              "      <td>{'n_neighbors': 3}</td>\n",
              "    </tr>\n",
              "    <tr>\n",
              "      <th>3</th>\n",
              "      <td>0.966667</td>\n",
              "      <td>0.044721</td>\n",
              "      <td>{'n_neighbors': 4}</td>\n",
              "    </tr>\n",
              "    <tr>\n",
              "      <th>4</th>\n",
              "      <td>0.966667</td>\n",
              "      <td>0.044721</td>\n",
              "      <td>{'n_neighbors': 5}</td>\n",
              "    </tr>\n",
              "    <tr>\n",
              "      <th>5</th>\n",
              "      <td>0.966667</td>\n",
              "      <td>0.044721</td>\n",
              "      <td>{'n_neighbors': 6}</td>\n",
              "    </tr>\n",
              "    <tr>\n",
              "      <th>6</th>\n",
              "      <td>0.966667</td>\n",
              "      <td>0.044721</td>\n",
              "      <td>{'n_neighbors': 7}</td>\n",
              "    </tr>\n",
              "    <tr>\n",
              "      <th>7</th>\n",
              "      <td>0.966667</td>\n",
              "      <td>0.044721</td>\n",
              "      <td>{'n_neighbors': 8}</td>\n",
              "    </tr>\n",
              "    <tr>\n",
              "      <th>8</th>\n",
              "      <td>0.973333</td>\n",
              "      <td>0.032660</td>\n",
              "      <td>{'n_neighbors': 9}</td>\n",
              "    </tr>\n",
              "    <tr>\n",
              "      <th>9</th>\n",
              "      <td>0.966667</td>\n",
              "      <td>0.044721</td>\n",
              "      <td>{'n_neighbors': 10}</td>\n",
              "    </tr>\n",
              "    <tr>\n",
              "      <th>10</th>\n",
              "      <td>0.966667</td>\n",
              "      <td>0.044721</td>\n",
              "      <td>{'n_neighbors': 11}</td>\n",
              "    </tr>\n",
              "    <tr>\n",
              "      <th>11</th>\n",
              "      <td>0.973333</td>\n",
              "      <td>0.032660</td>\n",
              "      <td>{'n_neighbors': 12}</td>\n",
              "    </tr>\n",
              "    <tr>\n",
              "      <th>12</th>\n",
              "      <td>0.980000</td>\n",
              "      <td>0.030551</td>\n",
              "      <td>{'n_neighbors': 13}</td>\n",
              "    </tr>\n",
              "    <tr>\n",
              "      <th>13</th>\n",
              "      <td>0.973333</td>\n",
              "      <td>0.044222</td>\n",
              "      <td>{'n_neighbors': 14}</td>\n",
              "    </tr>\n",
              "    <tr>\n",
              "      <th>14</th>\n",
              "      <td>0.973333</td>\n",
              "      <td>0.032660</td>\n",
              "      <td>{'n_neighbors': 15}</td>\n",
              "    </tr>\n",
              "    <tr>\n",
              "      <th>15</th>\n",
              "      <td>0.973333</td>\n",
              "      <td>0.032660</td>\n",
              "      <td>{'n_neighbors': 16}</td>\n",
              "    </tr>\n",
              "    <tr>\n",
              "      <th>16</th>\n",
              "      <td>0.973333</td>\n",
              "      <td>0.032660</td>\n",
              "      <td>{'n_neighbors': 17}</td>\n",
              "    </tr>\n",
              "    <tr>\n",
              "      <th>17</th>\n",
              "      <td>0.980000</td>\n",
              "      <td>0.030551</td>\n",
              "      <td>{'n_neighbors': 18}</td>\n",
              "    </tr>\n",
              "    <tr>\n",
              "      <th>18</th>\n",
              "      <td>0.973333</td>\n",
              "      <td>0.032660</td>\n",
              "      <td>{'n_neighbors': 19}</td>\n",
              "    </tr>\n",
              "    <tr>\n",
              "      <th>19</th>\n",
              "      <td>0.980000</td>\n",
              "      <td>0.030551</td>\n",
              "      <td>{'n_neighbors': 20}</td>\n",
              "    </tr>\n",
              "    <tr>\n",
              "      <th>20</th>\n",
              "      <td>0.966667</td>\n",
              "      <td>0.033333</td>\n",
              "      <td>{'n_neighbors': 21}</td>\n",
              "    </tr>\n",
              "    <tr>\n",
              "      <th>21</th>\n",
              "      <td>0.966667</td>\n",
              "      <td>0.033333</td>\n",
              "      <td>{'n_neighbors': 22}</td>\n",
              "    </tr>\n",
              "    <tr>\n",
              "      <th>22</th>\n",
              "      <td>0.973333</td>\n",
              "      <td>0.032660</td>\n",
              "      <td>{'n_neighbors': 23}</td>\n",
              "    </tr>\n",
              "    <tr>\n",
              "      <th>23</th>\n",
              "      <td>0.960000</td>\n",
              "      <td>0.044222</td>\n",
              "      <td>{'n_neighbors': 24}</td>\n",
              "    </tr>\n",
              "    <tr>\n",
              "      <th>24</th>\n",
              "      <td>0.966667</td>\n",
              "      <td>0.033333</td>\n",
              "      <td>{'n_neighbors': 25}</td>\n",
              "    </tr>\n",
              "    <tr>\n",
              "      <th>25</th>\n",
              "      <td>0.960000</td>\n",
              "      <td>0.044222</td>\n",
              "      <td>{'n_neighbors': 26}</td>\n",
              "    </tr>\n",
              "    <tr>\n",
              "      <th>26</th>\n",
              "      <td>0.966667</td>\n",
              "      <td>0.044721</td>\n",
              "      <td>{'n_neighbors': 27}</td>\n",
              "    </tr>\n",
              "    <tr>\n",
              "      <th>27</th>\n",
              "      <td>0.953333</td>\n",
              "      <td>0.042687</td>\n",
              "      <td>{'n_neighbors': 28}</td>\n",
              "    </tr>\n",
              "    <tr>\n",
              "      <th>28</th>\n",
              "      <td>0.953333</td>\n",
              "      <td>0.042687</td>\n",
              "      <td>{'n_neighbors': 29}</td>\n",
              "    </tr>\n",
              "    <tr>\n",
              "      <th>29</th>\n",
              "      <td>0.953333</td>\n",
              "      <td>0.042687</td>\n",
              "      <td>{'n_neighbors': 30}</td>\n",
              "    </tr>\n",
              "  </tbody>\n",
              "</table>\n",
              "</div>"
            ],
            "text/plain": [
              "    mean_test_score  std_test_score               params\n",
              "0          0.960000        0.053333   {'n_neighbors': 1}\n",
              "1          0.953333        0.052068   {'n_neighbors': 2}\n",
              "2          0.966667        0.044721   {'n_neighbors': 3}\n",
              "3          0.966667        0.044721   {'n_neighbors': 4}\n",
              "4          0.966667        0.044721   {'n_neighbors': 5}\n",
              "5          0.966667        0.044721   {'n_neighbors': 6}\n",
              "6          0.966667        0.044721   {'n_neighbors': 7}\n",
              "7          0.966667        0.044721   {'n_neighbors': 8}\n",
              "8          0.973333        0.032660   {'n_neighbors': 9}\n",
              "9          0.966667        0.044721  {'n_neighbors': 10}\n",
              "10         0.966667        0.044721  {'n_neighbors': 11}\n",
              "11         0.973333        0.032660  {'n_neighbors': 12}\n",
              "12         0.980000        0.030551  {'n_neighbors': 13}\n",
              "13         0.973333        0.044222  {'n_neighbors': 14}\n",
              "14         0.973333        0.032660  {'n_neighbors': 15}\n",
              "15         0.973333        0.032660  {'n_neighbors': 16}\n",
              "16         0.973333        0.032660  {'n_neighbors': 17}\n",
              "17         0.980000        0.030551  {'n_neighbors': 18}\n",
              "18         0.973333        0.032660  {'n_neighbors': 19}\n",
              "19         0.980000        0.030551  {'n_neighbors': 20}\n",
              "20         0.966667        0.033333  {'n_neighbors': 21}\n",
              "21         0.966667        0.033333  {'n_neighbors': 22}\n",
              "22         0.973333        0.032660  {'n_neighbors': 23}\n",
              "23         0.960000        0.044222  {'n_neighbors': 24}\n",
              "24         0.966667        0.033333  {'n_neighbors': 25}\n",
              "25         0.960000        0.044222  {'n_neighbors': 26}\n",
              "26         0.966667        0.044721  {'n_neighbors': 27}\n",
              "27         0.953333        0.042687  {'n_neighbors': 28}\n",
              "28         0.953333        0.042687  {'n_neighbors': 29}\n",
              "29         0.953333        0.042687  {'n_neighbors': 30}"
            ]
          },
          "metadata": {
            "tags": []
          },
          "execution_count": 15
        }
      ]
    },
    {
      "cell_type": "code",
      "metadata": {
        "id": "PeC4Z6Rkcq8x",
        "colab_type": "code",
        "colab": {
          "base_uri": "https://localhost:8080/",
          "height": 50
        },
        "outputId": "e173484a-60d6-417c-aaba-85d1ae890577"
      },
      "source": [
        "# examine the first result\n",
        "print(grid.cv_results_['params'][0])\n",
        "print(grid.cv_results_['mean_test_score'][0])"
      ],
      "execution_count": 16,
      "outputs": [
        {
          "output_type": "stream",
          "text": [
            "{'n_neighbors': 1}\n",
            "0.96\n"
          ],
          "name": "stdout"
        }
      ]
    },
    {
      "cell_type": "code",
      "metadata": {
        "id": "oRIYhgDvcvfo",
        "colab_type": "code",
        "colab": {
          "base_uri": "https://localhost:8080/",
          "height": 101
        },
        "outputId": "2202e8bc-62c4-4c67-edde-9e48438a9610"
      },
      "source": [
        "# print the array of mean scores only\n",
        "grid_mean_scores = grid.cv_results_['mean_test_score']\n",
        "print(grid_mean_scores)"
      ],
      "execution_count": 17,
      "outputs": [
        {
          "output_type": "stream",
          "text": [
            "[0.96       0.95333333 0.96666667 0.96666667 0.96666667 0.96666667\n",
            " 0.96666667 0.96666667 0.97333333 0.96666667 0.96666667 0.97333333\n",
            " 0.98       0.97333333 0.97333333 0.97333333 0.97333333 0.98\n",
            " 0.97333333 0.98       0.96666667 0.96666667 0.97333333 0.96\n",
            " 0.96666667 0.96       0.96666667 0.95333333 0.95333333 0.95333333]\n"
          ],
          "name": "stdout"
        }
      ]
    },
    {
      "cell_type": "code",
      "metadata": {
        "id": "D5ph5PazcyP8",
        "colab_type": "code",
        "colab": {}
      },
      "source": [
        ""
      ],
      "execution_count": 0,
      "outputs": []
    }
  ]
}