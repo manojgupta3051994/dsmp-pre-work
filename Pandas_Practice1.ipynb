{
  "nbformat": 4,
  "nbformat_minor": 0,
  "metadata": {
    "colab": {
      "name": "Pandas_Practice1.ipynb",
      "provenance": [],
      "authorship_tag": "ABX9TyO7Sk+yDM9awkwjqNil5LGs",
      "include_colab_link": true
    },
    "kernelspec": {
      "name": "python3",
      "display_name": "Python 3"
    }
  },
  "cells": [
    {
      "cell_type": "markdown",
      "metadata": {
        "id": "view-in-github",
        "colab_type": "text"
      },
      "source": [
        "<a href=\"https://colab.research.google.com/github/manojgupta3051994/dsmp-pre-work/blob/master/Pandas_Practice1.ipynb\" target=\"_parent\"><img src=\"https://colab.research.google.com/assets/colab-badge.svg\" alt=\"Open In Colab\"/></a>"
      ]
    },
    {
      "cell_type": "code",
      "metadata": {
        "id": "fvHRGyY65CI9",
        "colab_type": "code",
        "colab": {}
      },
      "source": [
        "# Importing Pandas Package and referencing as \"pd\"\n",
        "\n",
        "import pandas as pd"
      ],
      "execution_count": 0,
      "outputs": []
    },
    {
      "cell_type": "code",
      "metadata": {
        "id": "XNY-UgrR6GXj",
        "colab_type": "code",
        "colab": {}
      },
      "source": [
        "# Loading .csv file & displaying it\n",
        "\n",
        "df = pd.read_csv('pokemon_data.csv')\n",
        "df.head()"
      ],
      "execution_count": 0,
      "outputs": []
    },
    {
      "cell_type": "code",
      "metadata": {
        "id": "7KRSgjTUT2aw",
        "colab_type": "code",
        "colab": {}
      },
      "source": [
        "# Read Headers\n",
        "df.columns\n",
        "\n",
        "# Read each Column\n",
        "print (df['Name'])\n",
        "\n",
        "# Read Multiple Column\n",
        "print (df[['Name','Type 1','HP']])\n",
        "\n",
        "# Read Each Row\n",
        "print (df.iloc[0:4])\n",
        "\n",
        "#Read a specific location (Rows,Columns)\n",
        "print (df.iloc[2,1])\n",
        "\n",
        "print (df.loc[df['Type 1'] == \"Water\"])\n",
        " "
      ],
      "execution_count": 0,
      "outputs": []
    },
    {
      "cell_type": "code",
      "metadata": {
        "id": "LMqjffNaVpul",
        "colab_type": "code",
        "colab": {}
      },
      "source": [
        "for index,row in df.iterrows():\n",
        "  print (index,row['Name'])"
      ],
      "execution_count": 0,
      "outputs": []
    },
    {
      "cell_type": "code",
      "metadata": {
        "id": "8DXiQDxQZY0t",
        "colab_type": "code",
        "colab": {}
      },
      "source": [
        "# Getting overview of data\n",
        "\n",
        "print (df.describe())\n",
        "\n",
        "# Sorting Data\n",
        "\n",
        "df.sort_values(['Type 1','HP'],ascending = [1,0])"
      ],
      "execution_count": 0,
      "outputs": []
    },
    {
      "cell_type": "code",
      "metadata": {
        "id": "sEtQ4MC_Zv8m",
        "colab_type": "code",
        "colab": {}
      },
      "source": [
        "# Making Changes to the data\n",
        "# Adding Column Values\n",
        "df['Total'] = df['HP'] + df['Attack'] + df['Defense'] + df['Sp. Atk'] + df['Sp. Def'] + df['Speed']\n",
        "df.head()\n",
        "\n",
        "# Deleting column \"Total\"\n",
        "df.drop(columns=['Total'])\n",
        "\n",
        "# Creating Total with new way\n",
        "df['Total'] = df.iloc[:,4:10].sum(axis=1)\n",
        "df.head()\n",
        "\n",
        "# Swapping Columns Header \n",
        "cols = list(df.columns)\n",
        "df = df[cols[0:4] + [cols[-1]] + cols[4:12]]\n",
        "df"
      ],
      "execution_count": 0,
      "outputs": []
    },
    {
      "cell_type": "code",
      "metadata": {
        "id": "eScz2y9PgvDd",
        "colab_type": "code",
        "colab": {}
      },
      "source": [
        "# Checking above changes to new .csv file\n",
        "\n",
        "\n",
        "df.to_csv('Modified.csv',index = False)\n",
        "df1 = pd.read_csv('Modified.csv')\n",
        "df1.head()"
      ],
      "execution_count": 0,
      "outputs": []
    },
    {
      "cell_type": "code",
      "metadata": {
        "id": "0AzPt1K8nyD9",
        "colab_type": "code",
        "colab": {}
      },
      "source": [
        "# Filtering Data\n",
        "import re\n",
        "#df.loc[(df['Type 1'] == \"Grass\") & (df['Type 2'] == \"Poison\") & (df['HP'] >= 70)]\n",
        "df.loc[df['Name'].str.contains(\"Mega\")]\n",
        "df.loc[df['Name'].str.contains(\"^pi[A-Z]*\", flags = re.I , regex = True)]\n",
        "df.loc[df['Type 1'] == 'Flamer' , 'Type 1'] = 'Fire'"
      ],
      "execution_count": 0,
      "outputs": []
    },
    {
      "cell_type": "code",
      "metadata": {
        "id": "mqLj1mHRoOnR",
        "colab_type": "code",
        "colab": {}
      },
      "source": [
        "# Conditional Changes\n",
        "\n",
        "df.loc[df['Total'] > 500 , ['Generation' , 'Legendary']] = ['Test 1' , 'Test 2'] \n"
      ],
      "execution_count": 0,
      "outputs": []
    },
    {
      "cell_type": "code",
      "metadata": {
        "id": "JbfOlLDzy4dW",
        "colab_type": "code",
        "colab": {}
      },
      "source": [
        "# Aggregate Statistics (Group By)\n",
        "\n",
        "df1.groupby(['Type 1']).mean().sort_values('HP',ascending = False)\n",
        "df1['count'] = 1\n",
        "df1.groupby(['Type 1' , 'Type 2']).count()['count']\n",
        "\n"
      ],
      "execution_count": 0,
      "outputs": []
    },
    {
      "cell_type": "code",
      "metadata": {
        "id": "t2dPSVAYzPFe",
        "colab_type": "code",
        "colab": {}
      },
      "source": [
        "new_df = pd.DataFrame(columns = df4.columns)\n",
        "for df4 in pd.read_csv('Modified.csv',chunksize=5):\n",
        "  results = df4.groupby(['Type 1']).count\n",
        "  \n",
        "new_df = pd.concat([new_df,results])\n"
      ],
      "execution_count": 0,
      "outputs": []
    },
    {
      "cell_type": "code",
      "metadata": {
        "id": "yxRMEptJ3Z5X",
        "colab_type": "code",
        "colab": {}
      },
      "source": [
        ""
      ],
      "execution_count": 0,
      "outputs": []
    }
  ]
}